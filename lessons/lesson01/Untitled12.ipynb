{
 "cells": [
  {
   "cell_type": "code",
   "execution_count": 1,
   "metadata": {},
   "outputs": [
    {
     "name": "stdout",
     "output_type": "stream",
     "text": [
      "Hello world!\n"
     ]
    }
   ],
   "source": [
    "print('Hello world!')"
   ]
  },
  {
   "cell_type": "code",
   "execution_count": 3,
   "metadata": {},
   "outputs": [
    {
     "data": {
      "text/plain": [
       "int"
      ]
     },
     "execution_count": 3,
     "metadata": {},
     "output_type": "execute_result"
    }
   ],
   "source": [
    "type(5)"
   ]
  },
  {
   "cell_type": "code",
   "execution_count": 4,
   "metadata": {},
   "outputs": [
    {
     "data": {
      "text/plain": [
       "float"
      ]
     },
     "execution_count": 4,
     "metadata": {},
     "output_type": "execute_result"
    }
   ],
   "source": [
    "type(3.2)"
   ]
  },
  {
   "cell_type": "code",
   "execution_count": 5,
   "metadata": {},
   "outputs": [
    {
     "data": {
      "text/plain": [
       "'3'"
      ]
     },
     "execution_count": 5,
     "metadata": {},
     "output_type": "execute_result"
    }
   ],
   "source": [
    "str(3)"
   ]
  },
  {
   "cell_type": "code",
   "execution_count": 6,
   "metadata": {},
   "outputs": [
    {
     "data": {
      "text/plain": [
       "str"
      ]
     },
     "execution_count": 6,
     "metadata": {},
     "output_type": "execute_result"
    }
   ],
   "source": [
    "type(str(3))"
   ]
  },
  {
   "cell_type": "code",
   "execution_count": 8,
   "metadata": {},
   "outputs": [
    {
     "name": "stdout",
     "output_type": "stream",
     "text": [
      "The area is 15.20 while the radius is 2.2\n"
     ]
    }
   ],
   "source": [
    "# this code will compute the area of a circle given the radius\n",
    "pi = 3.1415\n",
    "radius = 2.2\n",
    "area = pi*(radius**2)\n",
    "print('The area is {0:.2f}'.format(area) + ' while the radius is ' + str(radius))"
   ]
  },
  {
   "cell_type": "code",
   "execution_count": 10,
   "metadata": {},
   "outputs": [
    {
     "name": "stdout",
     "output_type": "stream",
     "text": [
      "How old are you?25\n",
      "How old are you?25\n",
      "2525252525\n",
      "125\n"
     ]
    }
   ],
   "source": [
    "text = input('How old are you?')\n",
    "num = int(input('How old are you?'))\n",
    "print(5*text)\n",
    "print(5*num)"
   ]
  },
  {
   "cell_type": "code",
   "execution_count": 11,
   "metadata": {},
   "outputs": [
    {
     "name": "stdout",
     "output_type": "stream",
     "text": [
      "green\n",
      "['green', 'blue', 'orange']\n",
      "['green', 'blue', 'yellow']\n",
      "['green', 'violet', 'yellow']\n"
     ]
    }
   ],
   "source": [
    "colors = ['green', 'blue', 'red']\n",
    "print(colors[0])\n",
    "colors[2] = 'orange'\n",
    "print(colors)\n",
    "colors[-1] = 'yellow' # access the last element of the list\n",
    "print(colors)\n",
    "colors[-2] = 'violet' # access the second to last element of the list\n",
    "print(colors)\n"
   ]
  },
  {
   "cell_type": "code",
   "execution_count": 17,
   "metadata": {},
   "outputs": [
    {
     "name": "stdout",
     "output_type": "stream",
     "text": [
      "['dog', 'snake', 'fish']\n",
      "['cat', 'snake', 'elephant']\n",
      "['elephant', 'fish', 'snake', 'dog', 'cat']\n",
      "True\n",
      "True\n",
      "True\n",
      "5\n",
      "6\n"
     ]
    }
   ],
   "source": [
    "animals = ['cat', 'dog', 'snake', 'fish', 'elephant']\n",
    "# indexing\n",
    "print(animals[1:4]) # print elements from 1 (inclusive) to 4 (exclusive)\n",
    "print(animals[0:5:2]) # print elements from 1 (inclusive) to 5 (exclusive) jumping by 2 elements\n",
    "print(animals[::-1]) # print elements in reverse order\n",
    "\n",
    "# membership\n",
    "print('dog' in animals)\n",
    "print(4 in [1,2,3,4])\n",
    "print('ant' in 'elephant') # works with strings\n",
    "\n",
    "\n",
    "# additional ops\n",
    "print(len(animals))\n",
    "animals.append('horse')\n",
    "print(len(animals))"
   ]
  },
  {
   "cell_type": "code",
   "execution_count": 19,
   "metadata": {},
   "outputs": [
    {
     "name": "stdout",
     "output_type": "stream",
     "text": [
      "7\n",
      "7\n",
      "8\n",
      "7\n",
      "8\n",
      "9\n"
     ]
    }
   ],
   "source": [
    "x = 7\n",
    "y = x\n",
    "print(x, y)\n",
    "x = 8\n",
    "print(x, y)\n",
    "\n",
    "y = 9\n",
    "print(x, y)"
   ]
  },
  {
   "cell_type": "code",
   "execution_count": 24,
   "metadata": {},
   "outputs": [
    {
     "name": "stdout",
     "output_type": "stream",
     "text": [
      "[1, 2, 3] [1, 2, 3]\n",
      "[1, 2, 3, 4] [1, 2, 3, 4]\n",
      "[1, 2, 3, 4, 4] [1, 2, 3, 4, 4]\n",
      "[0, 0, 0] [1, 2, 3, 4, 4]\n"
     ]
    }
   ],
   "source": [
    "x = [1, 2, 3]\n",
    "y = x\n",
    "print(x, y)\n",
    "x.append(4)\n",
    "print(x, y)\n",
    "y.append(4)\n",
    "print(x, y)\n",
    "x = [0, 0, 0]\n",
    "print(x, y)"
   ]
  },
  {
   "cell_type": "code",
   "execution_count": 25,
   "metadata": {},
   "outputs": [
    {
     "name": "stdout",
     "output_type": "stream",
     "text": [
      "False\n"
     ]
    }
   ],
   "source": [
    "print([1, 'two'] == (1, 'two'))"
   ]
  },
  {
   "cell_type": "code",
   "execution_count": 30,
   "metadata": {},
   "outputs": [
    {
     "name": "stdout",
     "output_type": "stream",
     "text": [
      "0 man\n",
      "1 bites\n",
      "2 dog\n"
     ]
    }
   ],
   "source": [
    "l = ['man', 'bites', 'dog']\n",
    "for i, j in enumerate(l):\n",
    "    print(i, j)"
   ]
  },
  {
   "cell_type": "code",
   "execution_count": null,
   "metadata": {},
   "outputs": [],
   "source": []
  }
 ],
 "metadata": {
  "kernelspec": {
   "display_name": "Python 3",
   "language": "python",
   "name": "python3"
  },
  "language_info": {
   "codemirror_mode": {
    "name": "ipython",
    "version": 3
   },
   "file_extension": ".py",
   "mimetype": "text/x-python",
   "name": "python",
   "nbconvert_exporter": "python",
   "pygments_lexer": "ipython3",
   "version": "3.6.3"
  }
 },
 "nbformat": 4,
 "nbformat_minor": 2
}
